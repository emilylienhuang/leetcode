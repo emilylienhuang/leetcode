{
  "nbformat": 4,
  "nbformat_minor": 0,
  "metadata": {
    "colab": {
      "provenance": []
    },
    "kernelspec": {
      "name": "python3",
      "display_name": "Python 3"
    },
    "language_info": {
      "name": "python"
    }
  },
  "cells": [
    {
      "cell_type": "code",
      "execution_count": 1,
      "metadata": {
        "id": "ta3JRu5tluHo"
      },
      "outputs": [],
      "source": [
        "class Node:\n",
        "    def __init__(self, key, val):\n",
        "        self.key = key\n",
        "        self.val = val\n",
        "        self.prev, self.next = None, None"
      ]
    },
    {
      "cell_type": "code",
      "source": [
        "class LRUCache:\n",
        "\n",
        "    def __init__(self, capacity: int):\n",
        "        self.capacity = capacity\n",
        "        self.keyToNode = collections.defaultdict(Node)\n",
        "        self.lru = Node(-1, -1)\n",
        "        self.mru = Node(-1, -1)\n",
        "        self.lru.next, self.mru.prev = self.mru, self.lru\n",
        "\n",
        "    def remove(self, node):\n",
        "        val = node.val\n",
        "        prev, nxt = node.prev, node.next\n",
        "        prev.next, nxt.prev = nxt, prev\n",
        "        return val\n",
        "    def insert(self, node):\n",
        "        prev, nxt = self.mru.prev, self.mru\n",
        "        node.prev, prev.next = prev, node\n",
        "        node.next, nxt.prev = nxt, node\n",
        "    def get(self, key: int) -> int:\n",
        "        if key in self.keyToNode:\n",
        "            # remove the node\n",
        "            val = self.remove(self.keyToNode[key])\n",
        "            # replace the node\n",
        "            self.insert(self.keyToNode[key])\n",
        "            # return the node's val\n",
        "            return val\n",
        "        return -1\n",
        "\n",
        "    def put(self, key: int, value: int) -> None:\n",
        "        if key in self.keyToNode:\n",
        "            # remove the node\n",
        "            _ = self.remove(self.keyToNode[key])\n",
        "        # insert the node\n",
        "        self.keyToNode[key] = Node(key, value)\n",
        "        self.insert(self.keyToNode[key])\n",
        "        if self.capacity < len(self.keyToNode):\n",
        "            # remove lru, delete its reference in keyToNode\n",
        "            lru_node = self.lru.next\n",
        "            lru_node_next = lru_node.next\n",
        "            # move lru to new node\n",
        "            self.lru.next = lru_node.next\n",
        "            lru_node_next.prev = self.lru\n",
        "\n",
        "            del self.keyToNode[lru_node.key]\n"
      ],
      "metadata": {
        "id": "Qnuqgiftl0Cl"
      },
      "execution_count": 2,
      "outputs": []
    }
  ]
}